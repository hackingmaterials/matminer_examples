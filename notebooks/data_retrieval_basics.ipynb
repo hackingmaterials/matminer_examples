{
 "cells": [
  {
   "cell_type": "markdown",
   "metadata": {},
   "source": [
    "# Getting Data"
   ]
  },
  {
   "cell_type": "markdown",
   "metadata": {},
   "source": [
    "*author: Joseph Montoya*\n",
    "\n",
    "This notebook demonstrates a few basic examples from matminer's data retrieval features.  Matminer supports data retrival from the following sources.\n",
    "\n",
    "* [Materials Project](https://materialsproject.org)\n",
    "* [Citrine Informatics](https://citrination.com)\n",
    "* [The Materials Platform for Data Science (MPDS)](mpds.io)\n",
    "* [The Materials Data Facility](https://materialsdatafacility.org/)"
   ]
  },
  {
   "cell_type": "markdown",
   "metadata": {},
   "source": [
    "Each resource has a corresponding object in matminer designed for retrieving data and preprocessing it into a pandas dataframe.  In addition, matminer can also access and aggregate data from your own [mongo database](https://www.mongodb.com/), if you have one."
   ]
  },
  {
   "cell_type": "markdown",
   "metadata": {},
   "source": [
    "## Materials Project"
   ]
  },
  {
   "cell_type": "markdown",
   "metadata": {},
   "source": [
    "The materials project data retrieval tool, `matminer.data_retrieval.retrieve_MP.MPDataRetrieval` is initialized using an api_key that can be found on your personal dashboard page on [materialsproject.org](materialsproject.org) if you've created an account.  If you've set your api key via pymatgen (e.g. `pmg config --add PMG_MAPI_KEY YOUR_API_KEY_HERE`), the data retrieval tool may be initialized without an input argument."
   ]
  },
  {
   "cell_type": "code",
   "execution_count": 1,
   "metadata": {},
   "outputs": [],
   "source": [
    "from matminer.data_retrieval.retrieve_MP import MPDataRetrieval"
   ]
  },
  {
   "cell_type": "code",
   "execution_count": 2,
   "metadata": {},
   "outputs": [],
   "source": [
    "mpdr = MPDataRetrieval() # or MPDataRetrieval(api_key=YOUR_API_KEY here)"
   ]
  },
  {
   "cell_type": "markdown",
   "metadata": {},
   "source": [
    "Getting a dataframe corresponding to the materials project is essentially equivalent to using the MPRester's query method.(see [`pymatgen.ext.matproj.MPRester`](http://pymatgen.org/_modules/pymatgen/ext/matproj.html))  The inputs are  `criteria`, a mongo-style dictionary with which to filter the data, and `properties`, a list of supported properties which to return.  See the [MAPI documentation](https://github.com/materialsproject/mapidoc/tree/master/materials) for a list of and information about supported properties."
   ]
  },
  {
   "cell_type": "markdown",
   "metadata": {},
   "source": [
    "#### Example 1: Get densities of all elemental materials, i. e. those that contain one element"
   ]
  },
  {
   "cell_type": "code",
   "execution_count": 4,
   "metadata": {},
   "outputs": [
    {
     "name": "stdout",
     "output_type": "stream",
     "text": [
      "There are 466 entries on MP with 1 element\n"
     ]
    }
   ],
   "source": [
    "df = mpdr.get_dataframe(criteria={\"nelements\": 1}, properties=['density', 'pretty_formula'])\n",
    "print(\"There are {} entries on MP with 1 element\".format(df['density'].count()))"
   ]
  },
  {
   "cell_type": "code",
   "execution_count": 5,
   "metadata": {},
   "outputs": [
    {
     "data": {
      "text/html": [
       "<div>\n",
       "<style scoped>\n",
       "    .dataframe tbody tr th:only-of-type {\n",
       "        vertical-align: middle;\n",
       "    }\n",
       "\n",
       "    .dataframe tbody tr th {\n",
       "        vertical-align: top;\n",
       "    }\n",
       "\n",
       "    .dataframe thead th {\n",
       "        text-align: right;\n",
       "    }\n",
       "</style>\n",
       "<table border=\"1\" class=\"dataframe\">\n",
       "  <thead>\n",
       "    <tr style=\"text-align: right;\">\n",
       "      <th></th>\n",
       "      <th>density</th>\n",
       "      <th>pretty_formula</th>\n",
       "    </tr>\n",
       "    <tr>\n",
       "      <th>material_id</th>\n",
       "      <th></th>\n",
       "      <th></th>\n",
       "    </tr>\n",
       "  </thead>\n",
       "  <tbody>\n",
       "    <tr>\n",
       "      <th>mp-862690</th>\n",
       "      <td>8.281682</td>\n",
       "      <td>Ac</td>\n",
       "    </tr>\n",
       "    <tr>\n",
       "      <th>mp-10018</th>\n",
       "      <td>8.305508</td>\n",
       "      <td>Ac</td>\n",
       "    </tr>\n",
       "    <tr>\n",
       "      <th>mp-124</th>\n",
       "      <td>9.948341</td>\n",
       "      <td>Ag</td>\n",
       "    </tr>\n",
       "    <tr>\n",
       "      <th>mp-989737</th>\n",
       "      <td>9.922632</td>\n",
       "      <td>Ag</td>\n",
       "    </tr>\n",
       "    <tr>\n",
       "      <th>mp-8566</th>\n",
       "      <td>9.909384</td>\n",
       "      <td>Ag</td>\n",
       "    </tr>\n",
       "  </tbody>\n",
       "</table>\n",
       "</div>"
      ],
      "text/plain": [
       "              density pretty_formula\n",
       "material_id                         \n",
       "mp-862690    8.281682             Ac\n",
       "mp-10018     8.305508             Ac\n",
       "mp-124       9.948341             Ag\n",
       "mp-989737    9.922632             Ag\n",
       "mp-8566      9.909384             Ag"
      ]
     },
     "execution_count": 5,
     "metadata": {},
     "output_type": "execute_result"
    }
   ],
   "source": [
    "df.head()"
   ]
  },
  {
   "cell_type": "markdown",
   "metadata": {},
   "source": [
    "#### Example 2: Get all bandgaps larger than 3.0 eV"
   ]
  },
  {
   "cell_type": "code",
   "execution_count": 6,
   "metadata": {},
   "outputs": [],
   "source": [
    "df = mpdr.get_dataframe({\"band_gap\": {\"$gt\": 4.0}}, ['band_gap'])"
   ]
  },
  {
   "cell_type": "code",
   "execution_count": 7,
   "metadata": {},
   "outputs": [
    {
     "name": "stdout",
     "output_type": "stream",
     "text": [
      "There are 5841 entries on MP with a band gap larger than 4.0\n"
     ]
    }
   ],
   "source": [
    "print(\"There are {} entries on MP with a band gap larger than 4.0\".format(df['band_gap'].count()))"
   ]
  },
  {
   "cell_type": "code",
   "execution_count": 8,
   "metadata": {},
   "outputs": [
    {
     "data": {
      "text/html": [
       "<div>\n",
       "<style scoped>\n",
       "    .dataframe tbody tr th:only-of-type {\n",
       "        vertical-align: middle;\n",
       "    }\n",
       "\n",
       "    .dataframe tbody tr th {\n",
       "        vertical-align: top;\n",
       "    }\n",
       "\n",
       "    .dataframe thead th {\n",
       "        text-align: right;\n",
       "    }\n",
       "</style>\n",
       "<table border=\"1\" class=\"dataframe\">\n",
       "  <thead>\n",
       "    <tr style=\"text-align: right;\">\n",
       "      <th></th>\n",
       "      <th>band_gap</th>\n",
       "    </tr>\n",
       "    <tr>\n",
       "      <th>material_id</th>\n",
       "      <th></th>\n",
       "    </tr>\n",
       "  </thead>\n",
       "  <tbody>\n",
       "    <tr>\n",
       "      <th>mp-558642</th>\n",
       "      <td>4.0001</td>\n",
       "    </tr>\n",
       "    <tr>\n",
       "      <th>mp-558629</th>\n",
       "      <td>4.0007</td>\n",
       "    </tr>\n",
       "    <tr>\n",
       "      <th>mp-540140</th>\n",
       "      <td>4.0007</td>\n",
       "    </tr>\n",
       "    <tr>\n",
       "      <th>mp-780534</th>\n",
       "      <td>4.0007</td>\n",
       "    </tr>\n",
       "    <tr>\n",
       "      <th>mp-634434</th>\n",
       "      <td>4.0009</td>\n",
       "    </tr>\n",
       "  </tbody>\n",
       "</table>\n",
       "</div>"
      ],
      "text/plain": [
       "             band_gap\n",
       "material_id          \n",
       "mp-558642      4.0001\n",
       "mp-558629      4.0007\n",
       "mp-540140      4.0007\n",
       "mp-780534      4.0007\n",
       "mp-634434      4.0009"
      ]
     },
     "execution_count": 8,
     "metadata": {},
     "output_type": "execute_result"
    }
   ],
   "source": [
    "df.head()"
   ]
  },
  {
   "cell_type": "markdown",
   "metadata": {},
   "source": [
    "#### Example 3: Get all VRH shear and bulk moduli from the \"elasticity\" sub-document for which no warnings are found"
   ]
  },
  {
   "cell_type": "code",
   "execution_count": 9,
   "metadata": {},
   "outputs": [],
   "source": [
    "df = mpdr.get_dataframe({\"elasticity\": {\"$exists\": True}, \"elasticity.warnings\": None},\n",
    "                        ['elasticity.K_VRH', 'elasticity.G_VRH'])"
   ]
  },
  {
   "cell_type": "code",
   "execution_count": 10,
   "metadata": {},
   "outputs": [
    {
     "name": "stdout",
     "output_type": "stream",
     "text": [
      "There are 5849 elastic entries on MP with no warnings\n"
     ]
    }
   ],
   "source": [
    "print(\"There are {} elastic entries on MP with no warnings\".format(df['elasticity.K_VRH'].count()))"
   ]
  },
  {
   "cell_type": "code",
   "execution_count": 11,
   "metadata": {},
   "outputs": [
    {
     "data": {
      "text/html": [
       "<div>\n",
       "<style scoped>\n",
       "    .dataframe tbody tr th:only-of-type {\n",
       "        vertical-align: middle;\n",
       "    }\n",
       "\n",
       "    .dataframe tbody tr th {\n",
       "        vertical-align: top;\n",
       "    }\n",
       "\n",
       "    .dataframe thead th {\n",
       "        text-align: right;\n",
       "    }\n",
       "</style>\n",
       "<table border=\"1\" class=\"dataframe\">\n",
       "  <thead>\n",
       "    <tr style=\"text-align: right;\">\n",
       "      <th></th>\n",
       "      <th>elasticity.K_VRH</th>\n",
       "      <th>elasticity.G_VRH</th>\n",
       "    </tr>\n",
       "    <tr>\n",
       "      <th>material_id</th>\n",
       "      <th></th>\n",
       "      <th></th>\n",
       "    </tr>\n",
       "  </thead>\n",
       "  <tbody>\n",
       "    <tr>\n",
       "      <th>mvc-11484</th>\n",
       "      <td>172.0</td>\n",
       "      <td>101.0</td>\n",
       "    </tr>\n",
       "    <tr>\n",
       "      <th>mvc-11438</th>\n",
       "      <td>37.0</td>\n",
       "      <td>14.0</td>\n",
       "    </tr>\n",
       "    <tr>\n",
       "      <th>mvc-15350</th>\n",
       "      <td>107.0</td>\n",
       "      <td>45.0</td>\n",
       "    </tr>\n",
       "    <tr>\n",
       "      <th>mvc-16396</th>\n",
       "      <td>38.0</td>\n",
       "      <td>23.0</td>\n",
       "    </tr>\n",
       "    <tr>\n",
       "      <th>mvc-652</th>\n",
       "      <td>83.0</td>\n",
       "      <td>44.0</td>\n",
       "    </tr>\n",
       "  </tbody>\n",
       "</table>\n",
       "</div>"
      ],
      "text/plain": [
       "             elasticity.K_VRH  elasticity.G_VRH\n",
       "material_id                                    \n",
       "mvc-11484               172.0             101.0\n",
       "mvc-11438                37.0              14.0\n",
       "mvc-15350               107.0              45.0\n",
       "mvc-16396                38.0              23.0\n",
       "mvc-652                  83.0              44.0"
      ]
     },
     "execution_count": 11,
     "metadata": {},
     "output_type": "execute_result"
    }
   ],
   "source": [
    "df.head()"
   ]
  },
  {
   "cell_type": "markdown",
   "metadata": {},
   "source": [
    "## Citrine informatics"
   ]
  },
  {
   "cell_type": "markdown",
   "metadata": {},
   "source": [
    "The Citrination data retrieval tool, `matminer.data_retrieval.retrieve_Citrine.CitrineDataRetrieval` is initialized using an api_key that can be found on your \"Account Settings\" tab under your username in the upper right hand corner of the user interface at [citrination.com](citrination.com).  You can also set an environment variable, `CITRINE_KEY` to have your API key read automatically by the citrine informatics python API, (e. g. put `export CITRINE_KEY=YOUR_API_KEY_HERE` into your .bashrc)."
   ]
  },
  {
   "cell_type": "code",
   "execution_count": 12,
   "metadata": {},
   "outputs": [],
   "source": [
    "from matminer.data_retrieval.retrieve_Citrine import CitrineDataRetrieval"
   ]
  },
  {
   "cell_type": "markdown",
   "metadata": {},
   "source": [
    "#### Example 1: Get band gaps of various entries with formula PbTe"
   ]
  },
  {
   "cell_type": "code",
   "execution_count": 13,
   "metadata": {},
   "outputs": [],
   "source": [
    "cdr = CitrineDataRetrieval() # or CitrineDataRetrieval(api_key=YOUR_API_KEY) if $CITRINE_KEY is not set"
   ]
  },
  {
   "cell_type": "code",
   "execution_count": 21,
   "metadata": {},
   "outputs": [
    {
     "name": "stderr",
     "output_type": "stream",
     "text": [
      "  0%|          | 0/7 [00:00<?, ?it/s]/Users/alirezafaghaninia/Documents/forks/codes/matminer/matminer/data_retrieval/retrieve_Citrine.py:113: FutureWarning:\n",
      "\n",
      "set_value is deprecated and will be removed in a future release. Please use .at[] or .iat[] accessors instead\n",
      "\n",
      "/Users/alirezafaghaninia/Documents/forks/codes/matminer/matminer/data_retrieval/retrieve_Citrine.py:126: FutureWarning:\n",
      "\n",
      "set_value is deprecated and will be removed in a future release. Please use .at[] or .iat[] accessors instead\n",
      "\n",
      "100%|██████████| 7/7 [00:00<00:00, 82.98it/s]"
     ]
    },
    {
     "name": "stdout",
     "output_type": "stream",
     "text": [
      "all available fields:\n",
      "['Band gap', 'Band gap-units', 'Band gap-dataType', 'Crystallinity', 'Band gap-methods', 'references', 'category', 'chemicalFormula', 'uid', 'Band gap-conditions']\n",
      "\n",
      "suggested common fields:\n",
      "['chemicalFormula', 'references', 'Band gap', 'Band gap-conditions', 'Band gap-dataType', 'Band gap-methods', 'Band gap-units', 'Crystallinity']\n"
     ]
    },
    {
     "name": "stderr",
     "output_type": "stream",
     "text": [
      "\n"
     ]
    }
   ],
   "source": [
    "df = cdr.get_dataframe(criteria={'formula':'Si', 'data_type': 'EXPERIMENTAL'}, \n",
    "                       properties=['Band gap'],\n",
    "                       secondary_fields=True)"
   ]
  },
  {
   "cell_type": "code",
   "execution_count": 22,
   "metadata": {},
   "outputs": [
    {
     "data": {
      "text/html": [
       "<div>\n",
       "<style scoped>\n",
       "    .dataframe tbody tr th:only-of-type {\n",
       "        vertical-align: middle;\n",
       "    }\n",
       "\n",
       "    .dataframe tbody tr th {\n",
       "        vertical-align: top;\n",
       "    }\n",
       "\n",
       "    .dataframe thead th {\n",
       "        text-align: right;\n",
       "    }\n",
       "</style>\n",
       "<table border=\"1\" class=\"dataframe\">\n",
       "  <thead>\n",
       "    <tr style=\"text-align: right;\">\n",
       "      <th></th>\n",
       "      <th>chemicalFormula</th>\n",
       "      <th>references</th>\n",
       "      <th>Band gap</th>\n",
       "      <th>Band gap-conditions</th>\n",
       "      <th>Band gap-dataType</th>\n",
       "      <th>Band gap-methods</th>\n",
       "      <th>Band gap-units</th>\n",
       "      <th>Crystallinity</th>\n",
       "    </tr>\n",
       "  </thead>\n",
       "  <tbody>\n",
       "    <tr>\n",
       "      <th>1</th>\n",
       "      <td>Si</td>\n",
       "      <td>[{'doi': '10.1063/1.3253115'}]</td>\n",
       "      <td>1.12</td>\n",
       "      <td>[{'name': 'Transition', 'scalars': [{'value': ...</td>\n",
       "      <td>EXPERIMENTAL</td>\n",
       "      <td>[{'name': 'Absorption'}]</td>\n",
       "      <td>eV</td>\n",
       "      <td>Single crystalline</td>\n",
       "    </tr>\n",
       "    <tr>\n",
       "      <th>2</th>\n",
       "      <td>Si</td>\n",
       "      <td>[{'doi': '10.1063/1.3253115'}]</td>\n",
       "      <td>1.166</td>\n",
       "      <td>[{'name': 'Transition', 'scalars': [{'value': ...</td>\n",
       "      <td>EXPERIMENTAL</td>\n",
       "      <td>NaN</td>\n",
       "      <td>eV</td>\n",
       "      <td>Single crystalline</td>\n",
       "    </tr>\n",
       "    <tr>\n",
       "      <th>3</th>\n",
       "      <td>Si</td>\n",
       "      <td>[{'doi': '10.1063/1.3253115'}]</td>\n",
       "      <td>1.16</td>\n",
       "      <td>[{'name': 'Transition', 'scalars': [{'value': ...</td>\n",
       "      <td>EXPERIMENTAL</td>\n",
       "      <td>[{'name': 'Absorption'}]</td>\n",
       "      <td>eV</td>\n",
       "      <td>Single crystalline</td>\n",
       "    </tr>\n",
       "    <tr>\n",
       "      <th>4</th>\n",
       "      <td>Si</td>\n",
       "      <td>[{'doi': '10.1063/1.3253115'}]</td>\n",
       "      <td>1.16</td>\n",
       "      <td>[{'name': 'Transition', 'scalars': [{'value': ...</td>\n",
       "      <td>EXPERIMENTAL</td>\n",
       "      <td>[{'name': 'Absorption'}]</td>\n",
       "      <td>eV</td>\n",
       "      <td>Single crystalline</td>\n",
       "    </tr>\n",
       "    <tr>\n",
       "      <th>5</th>\n",
       "      <td>Si</td>\n",
       "      <td>[{'doi': '10.1063/1.3253115'}]</td>\n",
       "      <td>1.17</td>\n",
       "      <td>[{'name': 'Transition', 'scalars': [{'value': ...</td>\n",
       "      <td>EXPERIMENTAL</td>\n",
       "      <td>[{'name': 'Absorption'}]</td>\n",
       "      <td>eV</td>\n",
       "      <td>Single crystalline</td>\n",
       "    </tr>\n",
       "  </tbody>\n",
       "</table>\n",
       "</div>"
      ],
      "text/plain": [
       "  chemicalFormula                      references Band gap  \\\n",
       "1              Si  [{'doi': '10.1063/1.3253115'}]     1.12   \n",
       "2              Si  [{'doi': '10.1063/1.3253115'}]    1.166   \n",
       "3              Si  [{'doi': '10.1063/1.3253115'}]     1.16   \n",
       "4              Si  [{'doi': '10.1063/1.3253115'}]     1.16   \n",
       "5              Si  [{'doi': '10.1063/1.3253115'}]     1.17   \n",
       "\n",
       "                                 Band gap-conditions Band gap-dataType  \\\n",
       "1  [{'name': 'Transition', 'scalars': [{'value': ...      EXPERIMENTAL   \n",
       "2  [{'name': 'Transition', 'scalars': [{'value': ...      EXPERIMENTAL   \n",
       "3  [{'name': 'Transition', 'scalars': [{'value': ...      EXPERIMENTAL   \n",
       "4  [{'name': 'Transition', 'scalars': [{'value': ...      EXPERIMENTAL   \n",
       "5  [{'name': 'Transition', 'scalars': [{'value': ...      EXPERIMENTAL   \n",
       "\n",
       "           Band gap-methods Band gap-units       Crystallinity  \n",
       "1  [{'name': 'Absorption'}]             eV  Single crystalline  \n",
       "2                       NaN             eV  Single crystalline  \n",
       "3  [{'name': 'Absorption'}]             eV  Single crystalline  \n",
       "4  [{'name': 'Absorption'}]             eV  Single crystalline  \n",
       "5  [{'name': 'Absorption'}]             eV  Single crystalline  "
      ]
     },
     "execution_count": 22,
     "metadata": {},
     "output_type": "execute_result"
    }
   ],
   "source": [
    "df.head()"
   ]
  },
  {
   "cell_type": "markdown",
   "metadata": {},
   "source": [
    "#### Example 2: Get adsorption energies of O\\* and OH\\*"
   ]
  },
  {
   "cell_type": "code",
   "execution_count": 24,
   "metadata": {},
   "outputs": [
    {
     "name": "stderr",
     "output_type": "stream",
     "text": [
      "  0%|          | 0/9 [00:00<?, ?it/s]/Users/alirezafaghaninia/Documents/forks/codes/matminer/matminer/data_retrieval/retrieve_Citrine.py:113: FutureWarning:\n",
      "\n",
      "set_value is deprecated and will be removed in a future release. Please use .at[] or .iat[] accessors instead\n",
      "\n",
      "/Users/alirezafaghaninia/Documents/forks/codes/matminer/matminer/data_retrieval/retrieve_Citrine.py:126: FutureWarning:\n",
      "\n",
      "set_value is deprecated and will be removed in a future release. Please use .at[] or .iat[] accessors instead\n",
      "\n",
      "100%|██████████| 9/9 [00:00<00:00, 98.99it/s]\n"
     ]
    },
    {
     "name": "stdout",
     "output_type": "stream",
     "text": [
      "all available fields:\n",
      "['Adsorption energy of OH-dataType', 'Adsorption energy of OH-conditions', 'references', 'Surface facet', 'category', 'chemicalFormula', 'Adsorption energy of OH-units', 'Morphology', 'Adsorption energy of OH', 'uid']\n",
      "\n",
      "suggested common fields:\n",
      "['chemicalFormula', 'references', 'Adsorption energy of OH', 'Adsorption energy of OH-conditions', 'Adsorption energy of OH-dataType', 'Adsorption energy of OH-units', 'Morphology', 'Surface facet']\n"
     ]
    },
    {
     "name": "stderr",
     "output_type": "stream",
     "text": [
      "100%|██████████| 21/21 [00:00<00:00, 105.38it/s]"
     ]
    },
    {
     "name": "stdout",
     "output_type": "stream",
     "text": [
      "all available fields:\n",
      "['Adsorption energy of O-units', 'references', 'Reconstruction', 'Adsorption energy of O', 'category', 'chemicalFormula', 'Surface facet', 'uid', 'Adsorption energy of O-conditions']\n",
      "\n",
      "suggested common fields:\n",
      "['chemicalFormula', 'references', 'Adsorption energy of O', 'Adsorption energy of O-conditions', 'Adsorption energy of O-units', 'Reconstruction', 'Surface facet']\n"
     ]
    },
    {
     "name": "stderr",
     "output_type": "stream",
     "text": [
      "\n"
     ]
    }
   ],
   "source": [
    "df_OH = cdr.get_dataframe(criteria={}, properties=['adsorption energy of OH'], secondary_fields=True)\n",
    "df_O = cdr.get_dataframe(criteria={}, properties=['adsorption energy of O'], secondary_fields=True)"
   ]
  },
  {
   "cell_type": "code",
   "execution_count": 25,
   "metadata": {},
   "outputs": [
    {
     "data": {
      "text/html": [
       "<div>\n",
       "<style scoped>\n",
       "    .dataframe tbody tr th:only-of-type {\n",
       "        vertical-align: middle;\n",
       "    }\n",
       "\n",
       "    .dataframe tbody tr th {\n",
       "        vertical-align: top;\n",
       "    }\n",
       "\n",
       "    .dataframe thead th {\n",
       "        text-align: right;\n",
       "    }\n",
       "</style>\n",
       "<table border=\"1\" class=\"dataframe\">\n",
       "  <thead>\n",
       "    <tr style=\"text-align: right;\">\n",
       "      <th></th>\n",
       "      <th>chemicalFormula</th>\n",
       "      <th>references</th>\n",
       "      <th>Adsorption energy of OH</th>\n",
       "      <th>Adsorption energy of OH-conditions</th>\n",
       "      <th>Adsorption energy of OH-dataType</th>\n",
       "      <th>Adsorption energy of OH-units</th>\n",
       "      <th>Morphology</th>\n",
       "      <th>Surface facet</th>\n",
       "    </tr>\n",
       "  </thead>\n",
       "  <tbody>\n",
       "    <tr>\n",
       "      <th>1</th>\n",
       "      <td>Pt</td>\n",
       "      <td>[{'citation': '10.1039/c2cc30281k', 'doi': '10...</td>\n",
       "      <td>2.44</td>\n",
       "      <td>NaN</td>\n",
       "      <td>NaN</td>\n",
       "      <td>eV</td>\n",
       "      <td>NaN</td>\n",
       "      <td>(111)</td>\n",
       "    </tr>\n",
       "    <tr>\n",
       "      <th>2</th>\n",
       "      <td>Cu</td>\n",
       "      <td>[{'citation': '10.1016/s1872-2067(12)60642-1',...</td>\n",
       "      <td>-3.55</td>\n",
       "      <td>NaN</td>\n",
       "      <td>COMPUTATIONAL</td>\n",
       "      <td>eV</td>\n",
       "      <td>NaN</td>\n",
       "      <td>(211)</td>\n",
       "    </tr>\n",
       "    <tr>\n",
       "      <th>3</th>\n",
       "      <td>ZnO</td>\n",
       "      <td>[{'citation': '10.1016/s1872-2067(12)60642-1',...</td>\n",
       "      <td>-3.03</td>\n",
       "      <td>NaN</td>\n",
       "      <td>COMPUTATIONAL</td>\n",
       "      <td>eV</td>\n",
       "      <td>Thin film</td>\n",
       "      <td>NaN</td>\n",
       "    </tr>\n",
       "    <tr>\n",
       "      <th>4</th>\n",
       "      <td>Fe</td>\n",
       "      <td>[{'citation': '10.1016/j.corsci.2012.11.011', ...</td>\n",
       "      <td>-3.95</td>\n",
       "      <td>NaN</td>\n",
       "      <td>NaN</td>\n",
       "      <td>eV</td>\n",
       "      <td>NaN</td>\n",
       "      <td>(100)</td>\n",
       "    </tr>\n",
       "    <tr>\n",
       "      <th>5</th>\n",
       "      <td>Pt</td>\n",
       "      <td>[{'citation': '10.1021/jp807094m', 'doi': '10....</td>\n",
       "      <td>2.71</td>\n",
       "      <td>[{'name': 'Site', 'scalars': [{'value': 'Top s...</td>\n",
       "      <td>NaN</td>\n",
       "      <td>eV</td>\n",
       "      <td>NaN</td>\n",
       "      <td>(111)</td>\n",
       "    </tr>\n",
       "  </tbody>\n",
       "</table>\n",
       "</div>"
      ],
      "text/plain": [
       "  chemicalFormula                                         references  \\\n",
       "1              Pt  [{'citation': '10.1039/c2cc30281k', 'doi': '10...   \n",
       "2              Cu  [{'citation': '10.1016/s1872-2067(12)60642-1',...   \n",
       "3             ZnO  [{'citation': '10.1016/s1872-2067(12)60642-1',...   \n",
       "4              Fe  [{'citation': '10.1016/j.corsci.2012.11.011', ...   \n",
       "5              Pt  [{'citation': '10.1021/jp807094m', 'doi': '10....   \n",
       "\n",
       "  Adsorption energy of OH                 Adsorption energy of OH-conditions  \\\n",
       "1                    2.44                                                NaN   \n",
       "2                   -3.55                                                NaN   \n",
       "3                   -3.03                                                NaN   \n",
       "4                   -3.95                                                NaN   \n",
       "5                    2.71  [{'name': 'Site', 'scalars': [{'value': 'Top s...   \n",
       "\n",
       "  Adsorption energy of OH-dataType Adsorption energy of OH-units Morphology  \\\n",
       "1                              NaN                            eV        NaN   \n",
       "2                    COMPUTATIONAL                            eV        NaN   \n",
       "3                    COMPUTATIONAL                            eV  Thin film   \n",
       "4                              NaN                            eV        NaN   \n",
       "5                              NaN                            eV        NaN   \n",
       "\n",
       "  Surface facet  \n",
       "1         (111)  \n",
       "2         (211)  \n",
       "3           NaN  \n",
       "4         (100)  \n",
       "5         (111)  "
      ]
     },
     "execution_count": 25,
     "metadata": {},
     "output_type": "execute_result"
    }
   ],
   "source": [
    "df_OH.head()"
   ]
  },
  {
   "cell_type": "code",
   "execution_count": 26,
   "metadata": {},
   "outputs": [
    {
     "data": {
      "text/html": [
       "<div>\n",
       "<style scoped>\n",
       "    .dataframe tbody tr th:only-of-type {\n",
       "        vertical-align: middle;\n",
       "    }\n",
       "\n",
       "    .dataframe tbody tr th {\n",
       "        vertical-align: top;\n",
       "    }\n",
       "\n",
       "    .dataframe thead th {\n",
       "        text-align: right;\n",
       "    }\n",
       "</style>\n",
       "<table border=\"1\" class=\"dataframe\">\n",
       "  <thead>\n",
       "    <tr style=\"text-align: right;\">\n",
       "      <th></th>\n",
       "      <th>chemicalFormula</th>\n",
       "      <th>references</th>\n",
       "      <th>Adsorption energy of O</th>\n",
       "      <th>Adsorption energy of O-conditions</th>\n",
       "      <th>Adsorption energy of O-units</th>\n",
       "      <th>Reconstruction</th>\n",
       "      <th>Surface facet</th>\n",
       "    </tr>\n",
       "  </thead>\n",
       "  <tbody>\n",
       "    <tr>\n",
       "      <th>1</th>\n",
       "      <td>Fe</td>\n",
       "      <td>[{'citation': '10.1016/j.jcat.2007.04.018', 'd...</td>\n",
       "      <td>-5.42</td>\n",
       "      <td>NaN</td>\n",
       "      <td>eV</td>\n",
       "      <td>NaN</td>\n",
       "      <td>(111)</td>\n",
       "    </tr>\n",
       "    <tr>\n",
       "      <th>2</th>\n",
       "      <td>Pt</td>\n",
       "      <td>[{'citation': '10.1002/cctc.201100308', 'doi':...</td>\n",
       "      <td>1.53</td>\n",
       "      <td>NaN</td>\n",
       "      <td>eV</td>\n",
       "      <td>NaN</td>\n",
       "      <td>(111)</td>\n",
       "    </tr>\n",
       "    <tr>\n",
       "      <th>3</th>\n",
       "      <td>Pt</td>\n",
       "      <td>[{'citation': '10.1021/jp307055j', 'doi': '10....</td>\n",
       "      <td>-4.54</td>\n",
       "      <td>NaN</td>\n",
       "      <td>eV</td>\n",
       "      <td>NaN</td>\n",
       "      <td>(111)</td>\n",
       "    </tr>\n",
       "    <tr>\n",
       "      <th>4</th>\n",
       "      <td>Co</td>\n",
       "      <td>[{'citation': '10.1021/jp710674q', 'doi': '10....</td>\n",
       "      <td>2.37</td>\n",
       "      <td>[{'name': 'Site', 'scalars': [{'value': 'FCC s...</td>\n",
       "      <td>eV</td>\n",
       "      <td>NaN</td>\n",
       "      <td>(0001)</td>\n",
       "    </tr>\n",
       "    <tr>\n",
       "      <th>5</th>\n",
       "      <td>Rh</td>\n",
       "      <td>[{'citation': '10.1007/bf00806980', 'doi': '10...</td>\n",
       "      <td>-300</td>\n",
       "      <td>NaN</td>\n",
       "      <td>kJ/mol</td>\n",
       "      <td>NaN</td>\n",
       "      <td>(110)</td>\n",
       "    </tr>\n",
       "  </tbody>\n",
       "</table>\n",
       "</div>"
      ],
      "text/plain": [
       "  chemicalFormula                                         references  \\\n",
       "1              Fe  [{'citation': '10.1016/j.jcat.2007.04.018', 'd...   \n",
       "2              Pt  [{'citation': '10.1002/cctc.201100308', 'doi':...   \n",
       "3              Pt  [{'citation': '10.1021/jp307055j', 'doi': '10....   \n",
       "4              Co  [{'citation': '10.1021/jp710674q', 'doi': '10....   \n",
       "5              Rh  [{'citation': '10.1007/bf00806980', 'doi': '10...   \n",
       "\n",
       "  Adsorption energy of O                  Adsorption energy of O-conditions  \\\n",
       "1                  -5.42                                                NaN   \n",
       "2                   1.53                                                NaN   \n",
       "3                  -4.54                                                NaN   \n",
       "4                   2.37  [{'name': 'Site', 'scalars': [{'value': 'FCC s...   \n",
       "5                   -300                                                NaN   \n",
       "\n",
       "  Adsorption energy of O-units Reconstruction Surface facet  \n",
       "1                           eV            NaN         (111)  \n",
       "2                           eV            NaN         (111)  \n",
       "3                           eV            NaN         (111)  \n",
       "4                           eV            NaN        (0001)  \n",
       "5                       kJ/mol            NaN         (110)  "
      ]
     },
     "execution_count": 26,
     "metadata": {},
     "output_type": "execute_result"
    }
   ],
   "source": [
    "df_O.head()"
   ]
  },
  {
   "cell_type": "markdown",
   "metadata": {},
   "source": [
    "## MPDS - The Materials Platform for Data Science\n",
    "\n",
    "The [Materials Platform for Data Science](https://mpds.io/) interface is contained in `matminer.data_retrieval.retrieve_MPDS.MPDSDataRetrieval`, and is invoked using an API key and an optional endpoint.  Similarly to the Citrine and MP interfaces, MPDS can be invoked without specifying your API key if MPDS_KEY is set as an environment variable (e. g. put `export MPDS_KEY=YOUR_MPDS_KEY` into your .bashrc or .bash_profile)."
   ]
  },
  {
   "cell_type": "code",
   "execution_count": 27,
   "metadata": {},
   "outputs": [
    {
     "name": "stderr",
     "output_type": "stream",
     "text": [
      "/Users/alirezafaghaninia/Documents/forks/codes/matminer/matminer/data_retrieval/retrieve_MPDS.py:23: UserWarning:\n",
      "\n",
      "No module named 'jmespath'\n",
      "\n",
      "/Users/alirezafaghaninia/Documents/forks/codes/matminer/matminer/data_retrieval/retrieve_MPDS.py:32: UserWarning:\n",
      "\n",
      "No module named 'ase'\n",
      "\n"
     ]
    }
   ],
   "source": [
    "from matminer.data_retrieval.retrieve_MPDS import MPDSDataRetrieval"
   ]
  },
  {
   "cell_type": "code",
   "execution_count": 28,
   "metadata": {
    "scrolled": true
   },
   "outputs": [
    {
     "ename": "KeyError",
     "evalue": "'MPDS_KEY'",
     "output_type": "error",
     "traceback": [
      "\u001b[0;31m---------------------------------------------------------------------------\u001b[0m",
      "\u001b[0;31mKeyError\u001b[0m                                  Traceback (most recent call last)",
      "\u001b[0;32m<ipython-input-28-17b1b494ba8b>\u001b[0m in \u001b[0;36m<module>\u001b[0;34m()\u001b[0m\n\u001b[0;32m----> 1\u001b[0;31m \u001b[0mmpdsdr\u001b[0m \u001b[0;34m=\u001b[0m \u001b[0mMPDSDataRetrieval\u001b[0m\u001b[0;34m(\u001b[0m\u001b[0;34m)\u001b[0m \u001b[0;31m# or MPDSDataRetrieval(api_key=YOUR_API_KEY)\u001b[0m\u001b[0;34m\u001b[0m\u001b[0m\n\u001b[0m",
      "\u001b[0;32m~/Documents/forks/codes/matminer/matminer/data_retrieval/retrieve_MPDS.py\u001b[0m in \u001b[0;36m__init__\u001b[0;34m(self, api_key, endpoint)\u001b[0m\n\u001b[1;32m    119\u001b[0m         \u001b[0mReturns\u001b[0m\u001b[0;34m:\u001b[0m \u001b[0;32mNone\u001b[0m\u001b[0;34m\u001b[0m\u001b[0m\n\u001b[1;32m    120\u001b[0m         \"\"\"\n\u001b[0;32m--> 121\u001b[0;31m         \u001b[0mself\u001b[0m\u001b[0;34m.\u001b[0m\u001b[0mapi_key\u001b[0m \u001b[0;34m=\u001b[0m \u001b[0mapi_key\u001b[0m \u001b[0;32mif\u001b[0m \u001b[0mapi_key\u001b[0m \u001b[0;32melse\u001b[0m \u001b[0mos\u001b[0m\u001b[0;34m.\u001b[0m\u001b[0menviron\u001b[0m\u001b[0;34m[\u001b[0m\u001b[0;34m'MPDS_KEY'\u001b[0m\u001b[0;34m]\u001b[0m\u001b[0;34m\u001b[0m\u001b[0m\n\u001b[0m\u001b[1;32m    122\u001b[0m         \u001b[0mself\u001b[0m\u001b[0;34m.\u001b[0m\u001b[0mnetwork\u001b[0m \u001b[0;34m=\u001b[0m \u001b[0mhttplib2\u001b[0m\u001b[0;34m.\u001b[0m\u001b[0mHttp\u001b[0m\u001b[0;34m(\u001b[0m\u001b[0;34m)\u001b[0m\u001b[0;34m\u001b[0m\u001b[0m\n\u001b[1;32m    123\u001b[0m         \u001b[0mself\u001b[0m\u001b[0;34m.\u001b[0m\u001b[0mendpoint\u001b[0m \u001b[0;34m=\u001b[0m \u001b[0mendpoint\u001b[0m \u001b[0;32mor\u001b[0m \u001b[0mMPDSDataRetrieval\u001b[0m\u001b[0;34m.\u001b[0m\u001b[0mendpoint\u001b[0m\u001b[0;34m\u001b[0m\u001b[0m\n",
      "\u001b[0;32m~/Documents/forks/lib/python3.6/os.py\u001b[0m in \u001b[0;36m__getitem__\u001b[0;34m(self, key)\u001b[0m\n\u001b[1;32m    667\u001b[0m         \u001b[0;32mexcept\u001b[0m \u001b[0mKeyError\u001b[0m\u001b[0;34m:\u001b[0m\u001b[0;34m\u001b[0m\u001b[0m\n\u001b[1;32m    668\u001b[0m             \u001b[0;31m# raise KeyError with the original key value\u001b[0m\u001b[0;34m\u001b[0m\u001b[0;34m\u001b[0m\u001b[0m\n\u001b[0;32m--> 669\u001b[0;31m             \u001b[0;32mraise\u001b[0m \u001b[0mKeyError\u001b[0m\u001b[0;34m(\u001b[0m\u001b[0mkey\u001b[0m\u001b[0;34m)\u001b[0m \u001b[0;32mfrom\u001b[0m \u001b[0;32mNone\u001b[0m\u001b[0;34m\u001b[0m\u001b[0m\n\u001b[0m\u001b[1;32m    670\u001b[0m         \u001b[0;32mreturn\u001b[0m \u001b[0mself\u001b[0m\u001b[0;34m.\u001b[0m\u001b[0mdecodevalue\u001b[0m\u001b[0;34m(\u001b[0m\u001b[0mvalue\u001b[0m\u001b[0;34m)\u001b[0m\u001b[0;34m\u001b[0m\u001b[0m\n\u001b[1;32m    671\u001b[0m \u001b[0;34m\u001b[0m\u001b[0m\n",
      "\u001b[0;31mKeyError\u001b[0m: 'MPDS_KEY'"
     ]
    }
   ],
   "source": [
    "mpdsdr = MPDSDataRetrieval() # or MPDSDataRetrieval(api_key=YOUR_API_KEY)"
   ]
  },
  {
   "cell_type": "markdown",
   "metadata": {},
   "source": [
    "The `get_dataframe` method of the MPDSDataRetrieval class uses a search functionality documented on the [MPDS website](http://developer.mpds.io/#Categories).  Basically, the `search` keyword argument should take a dictionary with keys and values corresponding to search categories and values.  Note that the search functionality of the MPDS interface may be severely limited without full (i.e. paid subscription) access to the database."
   ]
  },
  {
   "cell_type": "code",
   "execution_count": 29,
   "metadata": {
    "scrolled": true
   },
   "outputs": [
    {
     "ename": "NameError",
     "evalue": "name 'mpdsdr' is not defined",
     "output_type": "error",
     "traceback": [
      "\u001b[0;31m---------------------------------------------------------------------------\u001b[0m",
      "\u001b[0;31mNameError\u001b[0m                                 Traceback (most recent call last)",
      "\u001b[0;32m<ipython-input-29-b1b45ece4db1>\u001b[0m in \u001b[0;36m<module>\u001b[0;34m()\u001b[0m\n\u001b[0;32m----> 1\u001b[0;31m \u001b[0mdf\u001b[0m \u001b[0;34m=\u001b[0m \u001b[0mmpdsdr\u001b[0m\u001b[0;34m.\u001b[0m\u001b[0mget_dataframe\u001b[0m\u001b[0;34m(\u001b[0m\u001b[0mcriteria\u001b[0m\u001b[0;34m=\u001b[0m\u001b[0;34m{\u001b[0m\u001b[0;34m\"elements\"\u001b[0m\u001b[0;34m:\u001b[0m \u001b[0;34m\"K-Ag\"\u001b[0m\u001b[0;34m,\u001b[0m \u001b[0;34m\"props\"\u001b[0m\u001b[0;34m:\u001b[0m \u001b[0;34m\"heat capacity\"\u001b[0m\u001b[0;34m}\u001b[0m\u001b[0;34m)\u001b[0m\u001b[0;34m\u001b[0m\u001b[0m\n\u001b[0m",
      "\u001b[0;31mNameError\u001b[0m: name 'mpdsdr' is not defined"
     ]
    }
   ],
   "source": [
    "df = mpdsdr.get_dataframe(criteria={\"elements\": \"K-Ag\", \"props\": \"heat capacity\"})"
   ]
  },
  {
   "cell_type": "code",
   "execution_count": 21,
   "metadata": {},
   "outputs": [
    {
     "data": {
      "text/html": [
       "<div>\n",
       "<style>\n",
       "    .dataframe thead tr:only-child th {\n",
       "        text-align: right;\n",
       "    }\n",
       "\n",
       "    .dataframe thead th {\n",
       "        text-align: left;\n",
       "    }\n",
       "\n",
       "    .dataframe tbody tr th {\n",
       "        vertical-align: top;\n",
       "    }\n",
       "</style>\n",
       "<table border=\"1\" class=\"dataframe\">\n",
       "  <thead>\n",
       "    <tr style=\"text-align: right;\">\n",
       "      <th></th>\n",
       "      <th>Phase</th>\n",
       "      <th>Formula</th>\n",
       "      <th>SG</th>\n",
       "      <th>Entry</th>\n",
       "      <th>Property</th>\n",
       "      <th>Units</th>\n",
       "      <th>Value</th>\n",
       "    </tr>\n",
       "  </thead>\n",
       "  <tbody>\n",
       "    <tr>\n",
       "      <th>0</th>\n",
       "      <td>30000</td>\n",
       "      <td>KAg4I5 rt</td>\n",
       "      <td>213</td>\n",
       "      <td>P1201629-3</td>\n",
       "      <td>heat capacity at constant pressure</td>\n",
       "      <td>J K-1 g-at.-1</td>\n",
       "      <td>30.5</td>\n",
       "    </tr>\n",
       "    <tr>\n",
       "      <th>1</th>\n",
       "      <td>79286</td>\n",
       "      <td>K2NaAg3[CN]6 lt</td>\n",
       "      <td>12</td>\n",
       "      <td>P1307433-3</td>\n",
       "      <td>heat capacity at constant pressure</td>\n",
       "      <td>J K-1 g-at.-1</td>\n",
       "      <td>83.0</td>\n",
       "    </tr>\n",
       "    <tr>\n",
       "      <th>2</th>\n",
       "      <td>79286</td>\n",
       "      <td>K2NaAg3[CN]6 lt</td>\n",
       "      <td>12</td>\n",
       "      <td>P1307433-4</td>\n",
       "      <td>heat capacity at constant pressure</td>\n",
       "      <td>J K-1 g-at.-1</td>\n",
       "      <td>112.0</td>\n",
       "    </tr>\n",
       "    <tr>\n",
       "      <th>3</th>\n",
       "      <td>79286</td>\n",
       "      <td>K2NaAg3[CN]6 lt</td>\n",
       "      <td>12</td>\n",
       "      <td>P1307434-3</td>\n",
       "      <td>heat capacity at constant pressure</td>\n",
       "      <td>J K-1 g-at.-1</td>\n",
       "      <td>78.0</td>\n",
       "    </tr>\n",
       "    <tr>\n",
       "      <th>4</th>\n",
       "      <td>79286</td>\n",
       "      <td>K2NaAg3[CN]6 lt</td>\n",
       "      <td>12</td>\n",
       "      <td>P1307434-4</td>\n",
       "      <td>heat capacity at constant pressure</td>\n",
       "      <td>J K-1 g-at.-1</td>\n",
       "      <td>11.0</td>\n",
       "    </tr>\n",
       "  </tbody>\n",
       "</table>\n",
       "</div>"
      ],
      "text/plain": [
       "   Phase          Formula   SG       Entry  \\\n",
       "0  30000        KAg4I5 rt  213  P1201629-3   \n",
       "1  79286  K2NaAg3[CN]6 lt   12  P1307433-3   \n",
       "2  79286  K2NaAg3[CN]6 lt   12  P1307433-4   \n",
       "3  79286  K2NaAg3[CN]6 lt   12  P1307434-3   \n",
       "4  79286  K2NaAg3[CN]6 lt   12  P1307434-4   \n",
       "\n",
       "                             Property          Units  Value  \n",
       "0  heat capacity at constant pressure  J K-1 g-at.-1   30.5  \n",
       "1  heat capacity at constant pressure  J K-1 g-at.-1   83.0  \n",
       "2  heat capacity at constant pressure  J K-1 g-at.-1  112.0  \n",
       "3  heat capacity at constant pressure  J K-1 g-at.-1   78.0  \n",
       "4  heat capacity at constant pressure  J K-1 g-at.-1   11.0  "
      ]
     },
     "execution_count": 21,
     "metadata": {},
     "output_type": "execute_result"
    }
   ],
   "source": [
    "df.head()"
   ]
  },
  {
   "cell_type": "markdown",
   "metadata": {},
   "source": [
    "## MDF - The Materials Data Facility\n"
   ]
  },
  {
   "cell_type": "markdown",
   "metadata": {},
   "source": [
    "The MDF data retrieval tool, `matminer.data_retrieval.retrieve_MDF.MDFDataRetrieval` is initialized using a globus initialization key.  Upon the first invocation of a MDFDataRetrieval object, you should be prompted with a string of numbers and letters you can enter on the MDF globus authentication web site.  One advantage of this system is that it doesn't actually require authentication at all.  You can use `anonymous=True` and several of the MDF datasets will be available.  However, a number of them will not, and you will have to authenticate using the web to access the entirety of MDF."
   ]
  },
  {
   "cell_type": "code",
   "execution_count": 30,
   "metadata": {},
   "outputs": [],
   "source": [
    "from matminer.data_retrieval.retrieve_MDF import MDFDataRetrieval"
   ]
  },
  {
   "cell_type": "code",
   "execution_count": 31,
   "metadata": {},
   "outputs": [],
   "source": [
    "mdf_dr = MDFDataRetrieval(anonymous=True) # Or anonymous=False if you have a globus login"
   ]
  },
  {
   "cell_type": "code",
   "execution_count": 32,
   "metadata": {},
   "outputs": [],
   "source": [
    "df = mdf_dr.get_dataframe(criteria={'elements': ['Ag', 'Be'], 'sources': [\"oqmd\"]})"
   ]
  },
  {
   "cell_type": "code",
   "execution_count": 33,
   "metadata": {},
   "outputs": [
    {
     "data": {
      "text/html": [
       "<div>\n",
       "<style scoped>\n",
       "    .dataframe tbody tr th:only-of-type {\n",
       "        vertical-align: middle;\n",
       "    }\n",
       "\n",
       "    .dataframe tbody tr th {\n",
       "        vertical-align: top;\n",
       "    }\n",
       "\n",
       "    .dataframe thead th {\n",
       "        text-align: right;\n",
       "    }\n",
       "</style>\n",
       "<table border=\"1\" class=\"dataframe\">\n",
       "  <thead>\n",
       "    <tr style=\"text-align: right;\">\n",
       "      <th></th>\n",
       "      <th>crystal_structure.cross_reference.icsd</th>\n",
       "      <th>crystal_structure.number_of_atoms</th>\n",
       "      <th>crystal_structure.space_group_number</th>\n",
       "      <th>crystal_structure.volume</th>\n",
       "      <th>dft.converged</th>\n",
       "      <th>dft.cutoff_energy</th>\n",
       "      <th>dft.exchange_correlation_functional</th>\n",
       "      <th>files.0.data_type</th>\n",
       "      <th>files.0.filename</th>\n",
       "      <th>files.0.globus</th>\n",
       "      <th>...</th>\n",
       "      <th>oqmd_v9.delta_e.units</th>\n",
       "      <th>oqmd_v9.delta_e.value</th>\n",
       "      <th>oqmd_v9.magnetic_moment.units</th>\n",
       "      <th>oqmd_v9.magnetic_moment.value</th>\n",
       "      <th>oqmd_v9.stability.units</th>\n",
       "      <th>oqmd_v9.stability.value</th>\n",
       "      <th>oqmd_v9.total_energy.units</th>\n",
       "      <th>oqmd_v9.total_energy.value</th>\n",
       "      <th>oqmd_v9.volume_pa.units</th>\n",
       "      <th>oqmd_v9.volume_pa.value</th>\n",
       "    </tr>\n",
       "  </thead>\n",
       "  <tbody>\n",
       "    <tr>\n",
       "      <th>0</th>\n",
       "      <td>NaN</td>\n",
       "      <td>2</td>\n",
       "      <td>221</td>\n",
       "      <td>25.267500</td>\n",
       "      <td>True</td>\n",
       "      <td>520.0</td>\n",
       "      <td>PBE</td>\n",
       "      <td>ASCII text, with very long lines, with no line...</td>\n",
       "      <td>537496.json</td>\n",
       "      <td>globus://e38ee745-6d04-11e5-ba46-22000b92c6ec/...</td>\n",
       "      <td>...</td>\n",
       "      <td>eV/atom</td>\n",
       "      <td>0.161912</td>\n",
       "      <td>bohr/atom</td>\n",
       "      <td>NaN</td>\n",
       "      <td>eV/atom</td>\n",
       "      <td>0.161912</td>\n",
       "      <td>eV/atom</td>\n",
       "      <td>-3.126579</td>\n",
       "      <td>angstrom^3/atom</td>\n",
       "      <td>12.6338</td>\n",
       "    </tr>\n",
       "    <tr>\n",
       "      <th>1</th>\n",
       "      <td>NaN</td>\n",
       "      <td>6</td>\n",
       "      <td>227</td>\n",
       "      <td>65.611609</td>\n",
       "      <td>True</td>\n",
       "      <td>1100.0</td>\n",
       "      <td>NaN</td>\n",
       "      <td>ASCII text, with very long lines, with no line...</td>\n",
       "      <td>JVASP-14806.json</td>\n",
       "      <td>globus://e38ee745-6d04-11e5-ba46-22000b92c6ec/...</td>\n",
       "      <td>...</td>\n",
       "      <td>NaN</td>\n",
       "      <td>NaN</td>\n",
       "      <td>NaN</td>\n",
       "      <td>NaN</td>\n",
       "      <td>NaN</td>\n",
       "      <td>NaN</td>\n",
       "      <td>NaN</td>\n",
       "      <td>NaN</td>\n",
       "      <td>NaN</td>\n",
       "      <td>NaN</td>\n",
       "    </tr>\n",
       "    <tr>\n",
       "      <th>2</th>\n",
       "      <td>NaN</td>\n",
       "      <td>4</td>\n",
       "      <td>225</td>\n",
       "      <td>57.951700</td>\n",
       "      <td>True</td>\n",
       "      <td>249.8</td>\n",
       "      <td>PBE</td>\n",
       "      <td>ASCII text, with very long lines, with no line...</td>\n",
       "      <td>107749.json</td>\n",
       "      <td>globus://e38ee745-6d04-11e5-ba46-22000b92c6ec/...</td>\n",
       "      <td>...</td>\n",
       "      <td>NaN</td>\n",
       "      <td>NaN</td>\n",
       "      <td>bohr/atom</td>\n",
       "      <td>NaN</td>\n",
       "      <td>NaN</td>\n",
       "      <td>NaN</td>\n",
       "      <td>eV/atom</td>\n",
       "      <td>-2.689514</td>\n",
       "      <td>angstrom^3/atom</td>\n",
       "      <td>14.4879</td>\n",
       "    </tr>\n",
       "    <tr>\n",
       "      <th>3</th>\n",
       "      <td>NaN</td>\n",
       "      <td>2</td>\n",
       "      <td>221</td>\n",
       "      <td>25.267500</td>\n",
       "      <td>True</td>\n",
       "      <td>249.8</td>\n",
       "      <td>PBE</td>\n",
       "      <td>ASCII text, with very long lines, with no line...</td>\n",
       "      <td>537497.json</td>\n",
       "      <td>globus://e38ee745-6d04-11e5-ba46-22000b92c6ec/...</td>\n",
       "      <td>...</td>\n",
       "      <td>NaN</td>\n",
       "      <td>NaN</td>\n",
       "      <td>bohr/atom</td>\n",
       "      <td>NaN</td>\n",
       "      <td>NaN</td>\n",
       "      <td>NaN</td>\n",
       "      <td>eV/atom</td>\n",
       "      <td>-3.125454</td>\n",
       "      <td>angstrom^3/atom</td>\n",
       "      <td>12.6338</td>\n",
       "    </tr>\n",
       "    <tr>\n",
       "      <th>4</th>\n",
       "      <td>NaN</td>\n",
       "      <td>4</td>\n",
       "      <td>139</td>\n",
       "      <td>40.698000</td>\n",
       "      <td>True</td>\n",
       "      <td>249.8</td>\n",
       "      <td>PBE</td>\n",
       "      <td>ASCII text, with very long lines, with no line...</td>\n",
       "      <td>71044.json</td>\n",
       "      <td>globus://e38ee745-6d04-11e5-ba46-22000b92c6ec/...</td>\n",
       "      <td>...</td>\n",
       "      <td>NaN</td>\n",
       "      <td>NaN</td>\n",
       "      <td>bohr/atom</td>\n",
       "      <td>NaN</td>\n",
       "      <td>NaN</td>\n",
       "      <td>NaN</td>\n",
       "      <td>eV/atom</td>\n",
       "      <td>-3.294362</td>\n",
       "      <td>angstrom^3/atom</td>\n",
       "      <td>10.1745</td>\n",
       "    </tr>\n",
       "  </tbody>\n",
       "</table>\n",
       "<p>5 rows × 53 columns</p>\n",
       "</div>"
      ],
      "text/plain": [
       "   crystal_structure.cross_reference.icsd  crystal_structure.number_of_atoms  \\\n",
       "0                                     NaN                                  2   \n",
       "1                                     NaN                                  6   \n",
       "2                                     NaN                                  4   \n",
       "3                                     NaN                                  2   \n",
       "4                                     NaN                                  4   \n",
       "\n",
       "   crystal_structure.space_group_number  crystal_structure.volume  \\\n",
       "0                                   221                 25.267500   \n",
       "1                                   227                 65.611609   \n",
       "2                                   225                 57.951700   \n",
       "3                                   221                 25.267500   \n",
       "4                                   139                 40.698000   \n",
       "\n",
       "   dft.converged  dft.cutoff_energy dft.exchange_correlation_functional  \\\n",
       "0           True              520.0                                 PBE   \n",
       "1           True             1100.0                                 NaN   \n",
       "2           True              249.8                                 PBE   \n",
       "3           True              249.8                                 PBE   \n",
       "4           True              249.8                                 PBE   \n",
       "\n",
       "                                   files.0.data_type  files.0.filename  \\\n",
       "0  ASCII text, with very long lines, with no line...       537496.json   \n",
       "1  ASCII text, with very long lines, with no line...  JVASP-14806.json   \n",
       "2  ASCII text, with very long lines, with no line...       107749.json   \n",
       "3  ASCII text, with very long lines, with no line...       537497.json   \n",
       "4  ASCII text, with very long lines, with no line...        71044.json   \n",
       "\n",
       "                                      files.0.globus           ...            \\\n",
       "0  globus://e38ee745-6d04-11e5-ba46-22000b92c6ec/...           ...             \n",
       "1  globus://e38ee745-6d04-11e5-ba46-22000b92c6ec/...           ...             \n",
       "2  globus://e38ee745-6d04-11e5-ba46-22000b92c6ec/...           ...             \n",
       "3  globus://e38ee745-6d04-11e5-ba46-22000b92c6ec/...           ...             \n",
       "4  globus://e38ee745-6d04-11e5-ba46-22000b92c6ec/...           ...             \n",
       "\n",
       "   oqmd_v9.delta_e.units oqmd_v9.delta_e.value oqmd_v9.magnetic_moment.units  \\\n",
       "0                eV/atom              0.161912                     bohr/atom   \n",
       "1                    NaN                   NaN                           NaN   \n",
       "2                    NaN                   NaN                     bohr/atom   \n",
       "3                    NaN                   NaN                     bohr/atom   \n",
       "4                    NaN                   NaN                     bohr/atom   \n",
       "\n",
       "  oqmd_v9.magnetic_moment.value oqmd_v9.stability.units  \\\n",
       "0                           NaN                 eV/atom   \n",
       "1                           NaN                     NaN   \n",
       "2                           NaN                     NaN   \n",
       "3                           NaN                     NaN   \n",
       "4                           NaN                     NaN   \n",
       "\n",
       "   oqmd_v9.stability.value oqmd_v9.total_energy.units  \\\n",
       "0                 0.161912                    eV/atom   \n",
       "1                      NaN                        NaN   \n",
       "2                      NaN                    eV/atom   \n",
       "3                      NaN                    eV/atom   \n",
       "4                      NaN                    eV/atom   \n",
       "\n",
       "   oqmd_v9.total_energy.value oqmd_v9.volume_pa.units oqmd_v9.volume_pa.value  \n",
       "0                   -3.126579         angstrom^3/atom                 12.6338  \n",
       "1                         NaN                     NaN                     NaN  \n",
       "2                   -2.689514         angstrom^3/atom                 14.4879  \n",
       "3                   -3.125454         angstrom^3/atom                 12.6338  \n",
       "4                   -3.294362         angstrom^3/atom                 10.1745  \n",
       "\n",
       "[5 rows x 53 columns]"
      ]
     },
     "execution_count": 33,
     "metadata": {},
     "output_type": "execute_result"
    }
   ],
   "source": [
    "df.head()"
   ]
  },
  {
   "cell_type": "code",
   "execution_count": 34,
   "metadata": {},
   "outputs": [
    {
     "name": "stdout",
     "output_type": "stream",
     "text": [
      "There are 505 entries in the Ag-Be chemical system\n"
     ]
    }
   ],
   "source": [
    "print(\"There are {} entries in the Ag-Be chemical system\".format(len(df)))"
   ]
  },
  {
   "cell_type": "code",
   "execution_count": null,
   "metadata": {},
   "outputs": [],
   "source": []
  }
 ],
 "metadata": {
  "kernelspec": {
   "display_name": "Python [default]",
   "language": "python",
   "name": "python3"
  },
  "language_info": {
   "codemirror_mode": {
    "name": "ipython",
    "version": 3
   },
   "file_extension": ".py",
   "mimetype": "text/x-python",
   "name": "python",
   "nbconvert_exporter": "python",
   "pygments_lexer": "ipython3",
   "version": "3.6.4"
  }
 },
 "nbformat": 4,
 "nbformat_minor": 2
}
